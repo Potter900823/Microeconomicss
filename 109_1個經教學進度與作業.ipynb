{
  "nbformat": 4,
  "nbformat_minor": 0,
  "metadata": {
    "colab": {
      "name": "109-1個經教學進度與作業.ipynb",
      "provenance": [],
      "collapsed_sections": [],
      "authorship_tag": "ABX9TyMDaL7IAlcHhdHFfXFRRkuL",
      "include_colab_link": true
    },
    "kernelspec": {
      "name": "python3",
      "display_name": "Python 3"
    }
  },
  "cells": [
    {
      "cell_type": "markdown",
      "metadata": {
        "id": "view-in-github",
        "colab_type": "text"
      },
      "source": [
        "<a href=\"https://colab.research.google.com/github/HungHuaTien/Microeconomics/blob/master/109_1%E5%80%8B%E7%B6%93%E6%95%99%E5%AD%B8%E9%80%B2%E5%BA%A6%E8%88%87%E4%BD%9C%E6%A5%AD.ipynb\" target=\"_parent\"><img src=\"https://colab.research.google.com/assets/colab-badge.svg\" alt=\"Open In Colab\"/></a>"
      ]
    },
    {
      "cell_type": "markdown",
      "metadata": {
        "id": "DR0X8qoJIuuk",
        "colab_type": "text"
      },
      "source": [
        "# Week 1 09-15-2020\n",
        "**上課內容**\n",
        "\n",
        "什麼是（個體）經濟學？\n",
        "\n",
        "課程綱要\n",
        "\n",
        "閱讀方法\n",
        "\n",
        "作業1: [Github網址回傳]\n",
        "（https://docs.google.com/forms/d/e/1FAIpQLSf2apDSYkI_r34ZKlVHS-5oHT3i1vZaf2RVFrwWkUllFGNYBw/viewform?usp=pp_url）\n"
      ]
    },
    {
      "cell_type": "markdown",
      "metadata": {
        "id": "T4AmePpzI4Zx",
        "colab_type": "text"
      },
      "source": [
        "# Week 2 09-22-2020"
      ]
    },
    {
      "cell_type": "code",
      "metadata": {
        "id": "0yhKdy_qI-Du",
        "colab_type": "code",
        "colab": {}
      },
      "source": [
        ""
      ],
      "execution_count": null,
      "outputs": []
    },
    {
      "cell_type": "markdown",
      "metadata": {
        "id": "N6bcKNG0JCsy",
        "colab_type": "text"
      },
      "source": [
        "# Week 3 09-29-2020"
      ]
    },
    {
      "cell_type": "markdown",
      "metadata": {
        "id": "xq85RObXJH2K",
        "colab_type": "text"
      },
      "source": [
        "# Week 4 06-10-2020"
      ]
    },
    {
      "cell_type": "markdown",
      "metadata": {
        "id": "oVcOqtHOJdD0",
        "colab_type": "text"
      },
      "source": [
        "# Week 5 13-10-2020"
      ]
    },
    {
      "cell_type": "markdown",
      "metadata": {
        "id": "U0UPQ3OUJjJL",
        "colab_type": "text"
      },
      "source": [
        "# Week 6 20-10-2020"
      ]
    },
    {
      "cell_type": "markdown",
      "metadata": {
        "id": "I_L5vN2GJnLD",
        "colab_type": "text"
      },
      "source": [
        "# Week 7 27-10-2020"
      ]
    },
    {
      "cell_type": "markdown",
      "metadata": {
        "id": "E4mrD480JrnE",
        "colab_type": "text"
      },
      "source": [
        "# Week 8 03-11-2020"
      ]
    },
    {
      "cell_type": "markdown",
      "metadata": {
        "id": "8vq8vRGDJwFb",
        "colab_type": "text"
      },
      "source": [
        "# Week 9 10-11-2020"
      ]
    },
    {
      "cell_type": "code",
      "metadata": {
        "id": "vjuSJFFWJzXf",
        "colab_type": "code",
        "colab": {}
      },
      "source": [
        ""
      ],
      "execution_count": null,
      "outputs": []
    }
  ]
}